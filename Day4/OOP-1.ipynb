{
 "cells": [
  {
   "cell_type": "code",
   "execution_count": 1,
   "metadata": {},
   "outputs": [],
   "source": [
    "class Person:\n",
    "    def __init__(self,name,age):\n",
    "        self.name = name\n",
    "        self.age = age"
   ]
  },
  {
   "cell_type": "code",
   "execution_count": 2,
   "metadata": {},
   "outputs": [],
   "source": [
    "person = Person('John',25)"
   ]
  },
  {
   "cell_type": "code",
   "execution_count": 3,
   "metadata": {},
   "outputs": [
    {
     "data": {
      "text/plain": [
       "'John'"
      ]
     },
     "execution_count": 3,
     "metadata": {},
     "output_type": "execute_result"
    }
   ],
   "source": [
    "person.name"
   ]
  },
  {
   "cell_type": "code",
   "execution_count": 24,
   "metadata": {},
   "outputs": [],
   "source": [
    "class Person:\n",
    "    def __init__(self, name, age):\n",
    "        self.name = name\n",
    "        self.age = age\n",
    "\n",
    "    def greet(self):\n",
    "        return f\"Hi, it's {self.name}.\""
   ]
  },
  {
   "cell_type": "code",
   "execution_count": 25,
   "metadata": {},
   "outputs": [
    {
     "name": "stdout",
     "output_type": "stream",
     "text": [
      "Hi, it's John.\n"
     ]
    }
   ],
   "source": [
    "person = Person('John', 25)\n",
    "print(person.greet())"
   ]
  },
  {
   "cell_type": "code",
   "execution_count": 28,
   "metadata": {},
   "outputs": [],
   "source": [
    "class Person:\n",
    "    counter = 0\n",
    "    def __init__(self, name, age):\n",
    "        self.name = name\n",
    "        self.age = age\n",
    "\n",
    "    def greet(self):\n",
    "        return f\"Hi, it's {self.name}.\""
   ]
  },
  {
   "cell_type": "code",
   "execution_count": 29,
   "metadata": {},
   "outputs": [
    {
     "name": "stdout",
     "output_type": "stream",
     "text": [
      "0\n"
     ]
    }
   ],
   "source": [
    "print(Person.counter)"
   ]
  },
  {
   "cell_type": "code",
   "execution_count": 30,
   "metadata": {},
   "outputs": [
    {
     "data": {
      "text/plain": [
       "0"
      ]
     },
     "execution_count": 30,
     "metadata": {},
     "output_type": "execute_result"
    }
   ],
   "source": [
    "person = Person('John',25)\n",
    "person.counter"
   ]
  },
  {
   "cell_type": "code",
   "execution_count": 31,
   "metadata": {},
   "outputs": [],
   "source": [
    "class Person:\n",
    "    counter = 0\n",
    "    def __init__(self, name, age):\n",
    "        self.name = name\n",
    "        self.age = age\n",
    "        Person.counter +=1\n",
    "    def greet(self):\n",
    "        return f\"Hi, it's {self.name}.\"\n"
   ]
  },
  {
   "cell_type": "code",
   "execution_count": 32,
   "metadata": {},
   "outputs": [
    {
     "name": "stdout",
     "output_type": "stream",
     "text": [
      "2\n"
     ]
    }
   ],
   "source": [
    "p1 = Person('John',25)\n",
    "p2 = Person('Mike',30)\n",
    "print(Person.counter)"
   ]
  },
  {
   "cell_type": "code",
   "execution_count": 33,
   "metadata": {},
   "outputs": [],
   "source": [
    "class Person:\n",
    "    counter = 0\n",
    "    def __init__(self, name, age):\n",
    "        self.name = name\n",
    "        self.age = age\n",
    "        Person.counter +=1\n",
    "    def greet(self):\n",
    "        return f\"Hi, it's {self.name}.\"\n",
    "    @classmethod\n",
    "    def create_anonymous(cls):\n",
    "        return Person('Anonymous',22)"
   ]
  },
  {
   "cell_type": "code",
   "execution_count": 35,
   "metadata": {},
   "outputs": [
    {
     "name": "stdout",
     "output_type": "stream",
     "text": [
      "Anonymous\n",
      "2\n"
     ]
    }
   ],
   "source": [
    "anonymous = Person.create_anonymous()\n",
    "print(anonymous.name)\n",
    "print(anonymous.counter)"
   ]
  },
  {
   "cell_type": "code",
   "execution_count": 38,
   "metadata": {},
   "outputs": [
    {
     "name": "stdout",
     "output_type": "stream",
     "text": [
      "Anonymous\n",
      "5\n"
     ]
    }
   ],
   "source": [
    "anonymous = Person.create_anonymous()\n",
    "print(anonymous.name)\n",
    "print(anonymous.counter)"
   ]
  },
  {
   "cell_type": "code",
   "execution_count": 39,
   "metadata": {},
   "outputs": [],
   "source": [
    "class TemperatureConverter:\n",
    "    @staticmethod\n",
    "    def C_to_F(c):\n",
    "        return 9*c/5+32\n",
    "    @staticmethod\n",
    "    def F_to_C(f):\n",
    "        return 5*(f-32)/9"
   ]
  },
  {
   "cell_type": "code",
   "execution_count": 40,
   "metadata": {},
   "outputs": [
    {
     "name": "stdout",
     "output_type": "stream",
     "text": [
      "86.0\n"
     ]
    }
   ],
   "source": [
    "f = TemperatureConverter.C_to_F(30)\n",
    "print(f)"
   ]
  },
  {
   "cell_type": "code",
   "execution_count": 43,
   "metadata": {},
   "outputs": [],
   "source": [
    "class Employee(Person):\n",
    "    def __init__(self, name, age, job):\n",
    "        super().__init__(name, age)\n",
    "        self.job = job\n",
    "    def greet(self):\n",
    "        return super().greet() + f\"I'm a {self.job}.\"\n"
   ]
  },
  {
   "cell_type": "code",
   "execution_count": 44,
   "metadata": {},
   "outputs": [
    {
     "name": "stdout",
     "output_type": "stream",
     "text": [
      "Hi, it's John.I'm a Python Developer.\n"
     ]
    }
   ],
   "source": [
    "employee = Employee('John',25,'Python Developer')\n",
    "print(employee.greet())"
   ]
  },
  {
   "cell_type": "code",
   "execution_count": 49,
   "metadata": {},
   "outputs": [
    {
     "name": "stdout",
     "output_type": "stream",
     "text": [
      "True\n"
     ]
    }
   ],
   "source": [
    "print(isinstance(employee, Employee))"
   ]
  },
  {
   "cell_type": "code",
   "execution_count": 50,
   "metadata": {},
   "outputs": [
    {
     "name": "stdout",
     "output_type": "stream",
     "text": [
      "Person\n"
     ]
    }
   ],
   "source": [
    "print(Person.__name__)"
   ]
  },
  {
   "cell_type": "code",
   "execution_count": 51,
   "metadata": {},
   "outputs": [
    {
     "name": "stdout",
     "output_type": "stream",
     "text": [
      "<class 'type'>\n"
     ]
    }
   ],
   "source": [
    "print(type(Person))"
   ]
  },
  {
   "cell_type": "code",
   "execution_count": 52,
   "metadata": {},
   "outputs": [],
   "source": [
    "class HtmlDocument:\n",
    "    extension = 'html'\n",
    "    version = '5'"
   ]
  },
  {
   "cell_type": "code",
   "execution_count": 53,
   "metadata": {},
   "outputs": [
    {
     "name": "stdout",
     "output_type": "stream",
     "text": [
      "text/html\n"
     ]
    }
   ],
   "source": [
    "media_type = getattr(HtmlDocument, 'media_type', 'text/html')\n",
    "print(media_type) # text/html"
   ]
  },
  {
   "cell_type": "code",
   "execution_count": 58,
   "metadata": {},
   "outputs": [],
   "source": [
    "from pprint import pprint\n",
    "class HtmlDocument:\n",
    "    extension = 'html'\n",
    "    version = '5'\n",
    "\n",
    "    def render():\n",
    "        print('Rendering the Html doc....')\n",
    "\n",
    "HtmlDocument.media_type = 'text/html'"
   ]
  },
  {
   "cell_type": "code",
   "execution_count": 59,
   "metadata": {},
   "outputs": [
    {
     "name": "stdout",
     "output_type": "stream",
     "text": [
      "mappingproxy({'__dict__': <attribute '__dict__' of 'HtmlDocument' objects>,\n",
      "              '__doc__': None,\n",
      "              '__module__': '__main__',\n",
      "              '__weakref__': <attribute '__weakref__' of 'HtmlDocument' objects>,\n",
      "              'extension': 'html',\n",
      "              'media_type': 'text/html',\n",
      "              'render': <function HtmlDocument.render at 0x1093d8af0>,\n",
      "              'version': '5'})\n"
     ]
    }
   ],
   "source": [
    "pprint(HtmlDocument.__dict__)"
   ]
  },
  {
   "cell_type": "code",
   "execution_count": 60,
   "metadata": {},
   "outputs": [],
   "source": [
    "del HtmlDocument.version"
   ]
  },
  {
   "cell_type": "code",
   "execution_count": 61,
   "metadata": {},
   "outputs": [
    {
     "name": "stdout",
     "output_type": "stream",
     "text": [
      "mappingproxy({'__dict__': <attribute '__dict__' of 'HtmlDocument' objects>,\n",
      "              '__doc__': None,\n",
      "              '__module__': '__main__',\n",
      "              '__weakref__': <attribute '__weakref__' of 'HtmlDocument' objects>,\n",
      "              'extension': 'html',\n",
      "              'media_type': 'text/html',\n",
      "              'render': <function HtmlDocument.render at 0x1093d8af0>})\n"
     ]
    }
   ],
   "source": [
    "pprint(HtmlDocument.__dict__)"
   ]
  },
  {
   "cell_type": "code",
   "execution_count": 62,
   "metadata": {},
   "outputs": [],
   "source": [
    "class Request:\n",
    "    def send():\n",
    "        print('Sent')"
   ]
  },
  {
   "cell_type": "code",
   "execution_count": 63,
   "metadata": {},
   "outputs": [
    {
     "name": "stdout",
     "output_type": "stream",
     "text": [
      "Sent\n"
     ]
    }
   ],
   "source": [
    "Request.send() # Sent"
   ]
  },
  {
   "cell_type": "code",
   "execution_count": 64,
   "metadata": {},
   "outputs": [
    {
     "name": "stdout",
     "output_type": "stream",
     "text": [
      "<function Request.send at 0x1093d9870>\n"
     ]
    }
   ],
   "source": [
    "print(Request.send)"
   ]
  },
  {
   "cell_type": "code",
   "execution_count": 65,
   "metadata": {},
   "outputs": [],
   "source": [
    "http_request = Request()"
   ]
  },
  {
   "cell_type": "code",
   "execution_count": 66,
   "metadata": {},
   "outputs": [
    {
     "name": "stdout",
     "output_type": "stream",
     "text": [
      "<bound method Request.send of <__main__.Request object at 0x103abf280>>\n"
     ]
    }
   ],
   "source": [
    "print(http_request.send)"
   ]
  },
  {
   "cell_type": "code",
   "execution_count": 67,
   "metadata": {},
   "outputs": [],
   "source": [
    "class Resquest:\n",
    "    def send(*args):\n",
    "        print('Sent',args)\n",
    "        "
   ]
  },
  {
   "cell_type": "code",
   "execution_count": 70,
   "metadata": {},
   "outputs": [
    {
     "name": "stdout",
     "output_type": "stream",
     "text": [
      "Sent ()\n"
     ]
    }
   ],
   "source": [
    "Resquest.send()"
   ]
  },
  {
   "cell_type": "code",
   "execution_count": 74,
   "metadata": {},
   "outputs": [
    {
     "name": "stdout",
     "output_type": "stream",
     "text": [
      "<function Resquest.send at 0x1093d8e50>\n"
     ]
    }
   ],
   "source": [
    "print(Resquest.send)"
   ]
  },
  {
   "cell_type": "code",
   "execution_count": 80,
   "metadata": {},
   "outputs": [],
   "source": [
    "http_request = Resquest()"
   ]
  },
  {
   "cell_type": "code",
   "execution_count": 81,
   "metadata": {},
   "outputs": [
    {
     "name": "stdout",
     "output_type": "stream",
     "text": [
      "Sent (<__main__.Resquest object at 0x10397c520>,)\n"
     ]
    }
   ],
   "source": [
    "http_request.send()"
   ]
  },
  {
   "cell_type": "code",
   "execution_count": 83,
   "metadata": {},
   "outputs": [
    {
     "name": "stdout",
     "output_type": "stream",
     "text": [
      "Sent (<__main__.Resquest object at 0x10397c520>,)\n"
     ]
    }
   ],
   "source": [
    "Resquest.send(http_request)"
   ]
  },
  {
   "cell_type": "code",
   "execution_count": 84,
   "metadata": {},
   "outputs": [],
   "source": [
    "class Request:\n",
    "    def send(self):\n",
    "        print('Sent', self)"
   ]
  },
  {
   "cell_type": "code",
   "execution_count": 86,
   "metadata": {},
   "outputs": [],
   "source": [
    "class Person:\n",
    "    def __init__(self,first_name,last_name,age):\n",
    "        self.first_name = first_name\n",
    "        self.last_name = last_name\n",
    "        self.age = age\n",
    "    def get_full_name(self):\n",
    "        return f\"{self.first_name} {self.last_name}\"\n",
    "    \n",
    "    def introduce(self):\n",
    "        return f\"Hi, I'm {self.first_name} {self.last_name} I'm {self.age} years old.\"\n",
    "    @classmethod\n",
    "    def create_anonymous(cls):\n",
    "        return Person('John','Doe',25)\n"
   ]
  },
  {
   "cell_type": "code",
   "execution_count": 87,
   "metadata": {},
   "outputs": [
    {
     "name": "stdout",
     "output_type": "stream",
     "text": [
      "Hi, I'm John Doe I'm 25 years old.\n"
     ]
    }
   ],
   "source": [
    "anonymous = Person.create_anonymous()\n",
    "print(anonymous.introduce())"
   ]
  },
  {
   "cell_type": "markdown",
   "metadata": {},
   "source": [
    "#### Encapsulation"
   ]
  },
  {
   "cell_type": "code",
   "execution_count": 88,
   "metadata": {},
   "outputs": [],
   "source": [
    "class Counter:\n",
    "    def __init__(self):\n",
    "        self.current = 0\n",
    "    def increment(self):\n",
    "        self.current += 1\n",
    "    def value(self):\n",
    "        return self.current\n",
    "    def reset(self):\n",
    "        self.current = 0"
   ]
  },
  {
   "cell_type": "code",
   "execution_count": 89,
   "metadata": {},
   "outputs": [
    {
     "name": "stdout",
     "output_type": "stream",
     "text": [
      "3\n"
     ]
    }
   ],
   "source": [
    "counter = Counter()\n",
    "\n",
    "\n",
    "counter.increment()\n",
    "counter.increment()\n",
    "counter.increment()\n",
    "\n",
    "print(counter.value())\n"
   ]
  },
  {
   "cell_type": "code",
   "execution_count": 90,
   "metadata": {},
   "outputs": [
    {
     "name": "stdout",
     "output_type": "stream",
     "text": [
      "-999\n"
     ]
    }
   ],
   "source": [
    "counter = Counter()\n",
    "\n",
    "counter.increment()\n",
    "counter.increment()\n",
    "counter.current = -999\n",
    "\n",
    "print(counter.value())\n"
   ]
  },
  {
   "cell_type": "markdown",
   "metadata": {},
   "source": [
    "#### Private attributes\n",
    "- _attribute"
   ]
  },
  {
   "cell_type": "code",
   "execution_count": 95,
   "metadata": {},
   "outputs": [],
   "source": [
    "class Counter:\n",
    "    def __init__(self):\n",
    "        self._current = 0\n",
    "\n",
    "    def increment(self):\n",
    "        self._current += 1\n",
    "\n",
    "    def value(self):\n",
    "        return self._current\n",
    "\n",
    "    def reset(self):\n",
    "        self._current = 0\n"
   ]
  },
  {
   "cell_type": "code",
   "execution_count": 96,
   "metadata": {},
   "outputs": [
    {
     "name": "stdout",
     "output_type": "stream",
     "text": [
      "2\n"
     ]
    }
   ],
   "source": [
    "counter = Counter()\n",
    "\n",
    "counter.increment()\n",
    "counter.increment()\n",
    "counter.current = -999\n",
    "\n",
    "print(counter.value())"
   ]
  },
  {
   "cell_type": "code",
   "execution_count": 97,
   "metadata": {},
   "outputs": [
    {
     "name": "stdout",
     "output_type": "stream",
     "text": [
      "2\n"
     ]
    }
   ],
   "source": [
    "print(counter._current)"
   ]
  },
  {
   "cell_type": "markdown",
   "metadata": {},
   "source": [
    "#### Name mangling with double underscores\n",
    "- __attribute \\\n",
    "Python will automatically change the name of the __attribute to:\n",
    "- _class__attribute"
   ]
  },
  {
   "cell_type": "code",
   "execution_count": 99,
   "metadata": {},
   "outputs": [],
   "source": [
    "class Counter:\n",
    "    def __init__(self):\n",
    "        self.__current = 0\n",
    "\n",
    "    def increment(self):\n",
    "        self.__current += 1\n",
    "\n",
    "    def value(self):\n",
    "        return self.__current\n",
    "\n",
    "    def reset(self):\n",
    "        self.__current = 0\n"
   ]
  },
  {
   "cell_type": "code",
   "execution_count": 100,
   "metadata": {},
   "outputs": [
    {
     "ename": "AttributeError",
     "evalue": "'Counter' object has no attribute '__current'",
     "output_type": "error",
     "traceback": [
      "\u001b[0;31m---------------------------------------------------------------------------\u001b[0m",
      "\u001b[0;31mAttributeError\u001b[0m                            Traceback (most recent call last)",
      "Cell \u001b[0;32mIn[100], line 2\u001b[0m\n\u001b[1;32m      1\u001b[0m counter \u001b[38;5;241m=\u001b[39m Counter()\n\u001b[0;32m----> 2\u001b[0m \u001b[38;5;28mprint\u001b[39m(\u001b[43mcounter\u001b[49m\u001b[38;5;241;43m.\u001b[39;49m\u001b[43m__current\u001b[49m)\n",
      "\u001b[0;31mAttributeError\u001b[0m: 'Counter' object has no attribute '__current'"
     ]
    }
   ],
   "source": [
    "counter = Counter()\n",
    "print(counter.__current)"
   ]
  },
  {
   "cell_type": "code",
   "execution_count": 101,
   "metadata": {},
   "outputs": [
    {
     "name": "stdout",
     "output_type": "stream",
     "text": [
      "0\n"
     ]
    }
   ],
   "source": [
    "counter = Counter()\n",
    "print(counter._Counter__current)"
   ]
  },
  {
   "cell_type": "code",
   "execution_count": 102,
   "metadata": {},
   "outputs": [
    {
     "name": "stdout",
     "output_type": "stream",
     "text": [
      "100\n",
      "190.0\n"
     ]
    }
   ],
   "source": [
    "class Product:\n",
    "    default_discount = 0\n",
    "\n",
    "    def __init__(self, price):\n",
    "        self.price = price\n",
    "        self.discount = Product.default_discount\n",
    "\n",
    "    def set_discount(self, discount):\n",
    "        self.discount = discount\n",
    "\n",
    "    def net_price(self):\n",
    "        return self.price * (1 - self.discount)\n",
    "\n",
    "\n",
    "p1 = Product(100)\n",
    "print(p1.net_price())\n",
    " # 100\n",
    "\n",
    "p2 = Product(200)\n",
    "p2.set_discount(0.05)\n",
    "print(p2.net_price())\n",
    " # 190"
   ]
  },
  {
   "cell_type": "code",
   "execution_count": 105,
   "metadata": {},
   "outputs": [],
   "source": [
    "class Course:\n",
    "    course = \"python\"\n",
    "\n",
    "class Student(Course):\n",
    "    def __init__(self,name):\n",
    "        self.name = name\n",
    "    def show_student(self):\n",
    "        print('Before')\n",
    "        print(f\"Student name {self.name}; Course name: {Student.course}\")\n",
    "        print('Now')\n",
    "        Student.course = \"Machine Learning\"\n",
    "        print(f\"Student name: {self.name}, Course name: {Student.course}\")\n"
   ]
  },
  {
   "cell_type": "code",
   "execution_count": 106,
   "metadata": {},
   "outputs": [
    {
     "name": "stdout",
     "output_type": "stream",
     "text": [
      "Before\n",
      "Student name Tina; Course name: python\n",
      "Now\n",
      "Student name: Tina, Course name: Machine Learning\n"
     ]
    }
   ],
   "source": [
    "stud = Student(\"Tina\")\n",
    "stud.show_student()"
   ]
  },
  {
   "cell_type": "code",
   "execution_count": 108,
   "metadata": {},
   "outputs": [
    {
     "name": "stdout",
     "output_type": "stream",
     "text": [
      "Before\n",
      "Student name: Tina Course Name: SQL\n",
      "Now\n",
      "Student name: Tina Course Name: Machine Learning\n",
      "Parent Class Course Name: Python\n"
     ]
    }
   ],
   "source": [
    "class Course:\n",
    "    # class variable\n",
    "    course = \"Python\"\n",
    "\n",
    "class Student(Course):\n",
    "    # class variable\n",
    "    course = \"SQL\"\n",
    "\n",
    "    def __init__(self, name):\n",
    "        self.name = name\n",
    "\n",
    "    def show_student(self):\n",
    "        # Accessing class variable\n",
    "        print('Before')\n",
    "        print(\"Student name:\", self.name, \"Course Name:\", Student.course)\n",
    "        # changing class variable's value\n",
    "        print('Now')\n",
    "        Student.course = \"Machine Learning\"\n",
    "        print(\"Student name:\", self.name, \"Course Name:\", Student.course)\n",
    "\n",
    "# creating object of Student class\n",
    "stud = Student(\"Tina\")\n",
    "stud.show_student()\n",
    "\n",
    "# parent class course name\n",
    "print('Parent Class Course Name:', Course.course)"
   ]
  }
 ],
 "metadata": {
  "kernelspec": {
   "display_name": "base",
   "language": "python",
   "name": "python3"
  },
  "language_info": {
   "codemirror_mode": {
    "name": "ipython",
    "version": 3
   },
   "file_extension": ".py",
   "mimetype": "text/x-python",
   "name": "python",
   "nbconvert_exporter": "python",
   "pygments_lexer": "ipython3",
   "version": "3.10.10"
  }
 },
 "nbformat": 4,
 "nbformat_minor": 2
}
